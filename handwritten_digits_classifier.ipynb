{
  "nbformat": 4,
  "nbformat_minor": 0,
  "metadata": {
    "colab": {
      "name": "handwritten_digits_classifier.ipynb",
      "provenance": [],
      "collapsed_sections": [],
      "authorship_tag": "ABX9TyOuznhC2P30D42LLJmGzMFm",
      "include_colab_link": true
    },
    "kernelspec": {
      "name": "python3",
      "display_name": "Python 3"
    },
    "accelerator": "GPU",
    "widgets": {
      "application/vnd.jupyter.widget-state+json": {
        "19eeee792284439aaf0a931ddfc5a2d9": {
          "model_module": "@jupyter-widgets/controls",
          "model_name": "HBoxModel",
          "state": {
            "_view_name": "HBoxView",
            "_dom_classes": [],
            "_model_name": "HBoxModel",
            "_view_module": "@jupyter-widgets/controls",
            "_model_module_version": "1.5.0",
            "_view_count": null,
            "_view_module_version": "1.5.0",
            "box_style": "",
            "layout": "IPY_MODEL_5d6210fda554488b9fd3bbce1818e03b",
            "_model_module": "@jupyter-widgets/controls",
            "children": [
              "IPY_MODEL_2904e88f9a094d85813ac1c511a0f44f",
              "IPY_MODEL_ca41cc38600c4b20ad8d51fb1935a8ce"
            ]
          }
        },
        "5d6210fda554488b9fd3bbce1818e03b": {
          "model_module": "@jupyter-widgets/base",
          "model_name": "LayoutModel",
          "state": {
            "_view_name": "LayoutView",
            "grid_template_rows": null,
            "right": null,
            "justify_content": null,
            "_view_module": "@jupyter-widgets/base",
            "overflow": null,
            "_model_module_version": "1.2.0",
            "_view_count": null,
            "flex_flow": null,
            "width": null,
            "min_width": null,
            "border": null,
            "align_items": null,
            "bottom": null,
            "_model_module": "@jupyter-widgets/base",
            "top": null,
            "grid_column": null,
            "overflow_y": null,
            "overflow_x": null,
            "grid_auto_flow": null,
            "grid_area": null,
            "grid_template_columns": null,
            "flex": null,
            "_model_name": "LayoutModel",
            "justify_items": null,
            "grid_row": null,
            "max_height": null,
            "align_content": null,
            "visibility": null,
            "align_self": null,
            "height": null,
            "min_height": null,
            "padding": null,
            "grid_auto_rows": null,
            "grid_gap": null,
            "max_width": null,
            "order": null,
            "_view_module_version": "1.2.0",
            "grid_template_areas": null,
            "object_position": null,
            "object_fit": null,
            "grid_auto_columns": null,
            "margin": null,
            "display": null,
            "left": null
          }
        },
        "2904e88f9a094d85813ac1c511a0f44f": {
          "model_module": "@jupyter-widgets/controls",
          "model_name": "FloatProgressModel",
          "state": {
            "_view_name": "ProgressView",
            "style": "IPY_MODEL_4f93b92aed0343428a3e24539d5c342d",
            "_dom_classes": [],
            "description": "",
            "_model_name": "FloatProgressModel",
            "bar_style": "info",
            "max": 1,
            "_view_module": "@jupyter-widgets/controls",
            "_model_module_version": "1.5.0",
            "value": 1,
            "_view_count": null,
            "_view_module_version": "1.5.0",
            "orientation": "horizontal",
            "min": 0,
            "description_tooltip": null,
            "_model_module": "@jupyter-widgets/controls",
            "layout": "IPY_MODEL_ac2cd8f6145f4fc09a8b91109ff81f62"
          }
        },
        "ca41cc38600c4b20ad8d51fb1935a8ce": {
          "model_module": "@jupyter-widgets/controls",
          "model_name": "HTMLModel",
          "state": {
            "_view_name": "HTMLView",
            "style": "IPY_MODEL_80c8580871ab46788ee20c9bdf93f214",
            "_dom_classes": [],
            "description": "",
            "_model_name": "HTMLModel",
            "placeholder": "​",
            "_view_module": "@jupyter-widgets/controls",
            "_model_module_version": "1.5.0",
            "value": " 9920512/? [00:14&lt;00:00, 1471710.55it/s]",
            "_view_count": null,
            "_view_module_version": "1.5.0",
            "description_tooltip": null,
            "_model_module": "@jupyter-widgets/controls",
            "layout": "IPY_MODEL_2d271bd011cd4af8a9bfc7d53dbf2068"
          }
        },
        "4f93b92aed0343428a3e24539d5c342d": {
          "model_module": "@jupyter-widgets/controls",
          "model_name": "ProgressStyleModel",
          "state": {
            "_view_name": "StyleView",
            "_model_name": "ProgressStyleModel",
            "description_width": "initial",
            "_view_module": "@jupyter-widgets/base",
            "_model_module_version": "1.5.0",
            "_view_count": null,
            "_view_module_version": "1.2.0",
            "bar_color": null,
            "_model_module": "@jupyter-widgets/controls"
          }
        },
        "ac2cd8f6145f4fc09a8b91109ff81f62": {
          "model_module": "@jupyter-widgets/base",
          "model_name": "LayoutModel",
          "state": {
            "_view_name": "LayoutView",
            "grid_template_rows": null,
            "right": null,
            "justify_content": null,
            "_view_module": "@jupyter-widgets/base",
            "overflow": null,
            "_model_module_version": "1.2.0",
            "_view_count": null,
            "flex_flow": null,
            "width": null,
            "min_width": null,
            "border": null,
            "align_items": null,
            "bottom": null,
            "_model_module": "@jupyter-widgets/base",
            "top": null,
            "grid_column": null,
            "overflow_y": null,
            "overflow_x": null,
            "grid_auto_flow": null,
            "grid_area": null,
            "grid_template_columns": null,
            "flex": null,
            "_model_name": "LayoutModel",
            "justify_items": null,
            "grid_row": null,
            "max_height": null,
            "align_content": null,
            "visibility": null,
            "align_self": null,
            "height": null,
            "min_height": null,
            "padding": null,
            "grid_auto_rows": null,
            "grid_gap": null,
            "max_width": null,
            "order": null,
            "_view_module_version": "1.2.0",
            "grid_template_areas": null,
            "object_position": null,
            "object_fit": null,
            "grid_auto_columns": null,
            "margin": null,
            "display": null,
            "left": null
          }
        },
        "80c8580871ab46788ee20c9bdf93f214": {
          "model_module": "@jupyter-widgets/controls",
          "model_name": "DescriptionStyleModel",
          "state": {
            "_view_name": "StyleView",
            "_model_name": "DescriptionStyleModel",
            "description_width": "",
            "_view_module": "@jupyter-widgets/base",
            "_model_module_version": "1.5.0",
            "_view_count": null,
            "_view_module_version": "1.2.0",
            "_model_module": "@jupyter-widgets/controls"
          }
        },
        "2d271bd011cd4af8a9bfc7d53dbf2068": {
          "model_module": "@jupyter-widgets/base",
          "model_name": "LayoutModel",
          "state": {
            "_view_name": "LayoutView",
            "grid_template_rows": null,
            "right": null,
            "justify_content": null,
            "_view_module": "@jupyter-widgets/base",
            "overflow": null,
            "_model_module_version": "1.2.0",
            "_view_count": null,
            "flex_flow": null,
            "width": null,
            "min_width": null,
            "border": null,
            "align_items": null,
            "bottom": null,
            "_model_module": "@jupyter-widgets/base",
            "top": null,
            "grid_column": null,
            "overflow_y": null,
            "overflow_x": null,
            "grid_auto_flow": null,
            "grid_area": null,
            "grid_template_columns": null,
            "flex": null,
            "_model_name": "LayoutModel",
            "justify_items": null,
            "grid_row": null,
            "max_height": null,
            "align_content": null,
            "visibility": null,
            "align_self": null,
            "height": null,
            "min_height": null,
            "padding": null,
            "grid_auto_rows": null,
            "grid_gap": null,
            "max_width": null,
            "order": null,
            "_view_module_version": "1.2.0",
            "grid_template_areas": null,
            "object_position": null,
            "object_fit": null,
            "grid_auto_columns": null,
            "margin": null,
            "display": null,
            "left": null
          }
        },
        "1c34a50dc4cd491c88f22987c19c8221": {
          "model_module": "@jupyter-widgets/controls",
          "model_name": "HBoxModel",
          "state": {
            "_view_name": "HBoxView",
            "_dom_classes": [],
            "_model_name": "HBoxModel",
            "_view_module": "@jupyter-widgets/controls",
            "_model_module_version": "1.5.0",
            "_view_count": null,
            "_view_module_version": "1.5.0",
            "box_style": "",
            "layout": "IPY_MODEL_dc080cccd2704a2289c9371e4402c2cb",
            "_model_module": "@jupyter-widgets/controls",
            "children": [
              "IPY_MODEL_d81cb953c9994db2ad0c355f3391af92",
              "IPY_MODEL_29e78d021a94461eae99bebd5f3b88f1"
            ]
          }
        },
        "dc080cccd2704a2289c9371e4402c2cb": {
          "model_module": "@jupyter-widgets/base",
          "model_name": "LayoutModel",
          "state": {
            "_view_name": "LayoutView",
            "grid_template_rows": null,
            "right": null,
            "justify_content": null,
            "_view_module": "@jupyter-widgets/base",
            "overflow": null,
            "_model_module_version": "1.2.0",
            "_view_count": null,
            "flex_flow": null,
            "width": null,
            "min_width": null,
            "border": null,
            "align_items": null,
            "bottom": null,
            "_model_module": "@jupyter-widgets/base",
            "top": null,
            "grid_column": null,
            "overflow_y": null,
            "overflow_x": null,
            "grid_auto_flow": null,
            "grid_area": null,
            "grid_template_columns": null,
            "flex": null,
            "_model_name": "LayoutModel",
            "justify_items": null,
            "grid_row": null,
            "max_height": null,
            "align_content": null,
            "visibility": null,
            "align_self": null,
            "height": null,
            "min_height": null,
            "padding": null,
            "grid_auto_rows": null,
            "grid_gap": null,
            "max_width": null,
            "order": null,
            "_view_module_version": "1.2.0",
            "grid_template_areas": null,
            "object_position": null,
            "object_fit": null,
            "grid_auto_columns": null,
            "margin": null,
            "display": null,
            "left": null
          }
        },
        "d81cb953c9994db2ad0c355f3391af92": {
          "model_module": "@jupyter-widgets/controls",
          "model_name": "FloatProgressModel",
          "state": {
            "_view_name": "ProgressView",
            "style": "IPY_MODEL_e37ce6490f83462b8e43e377c7505133",
            "_dom_classes": [],
            "description": "  0%",
            "_model_name": "FloatProgressModel",
            "bar_style": "info",
            "max": 1,
            "_view_module": "@jupyter-widgets/controls",
            "_model_module_version": "1.5.0",
            "value": 0,
            "_view_count": null,
            "_view_module_version": "1.5.0",
            "orientation": "horizontal",
            "min": 0,
            "description_tooltip": null,
            "_model_module": "@jupyter-widgets/controls",
            "layout": "IPY_MODEL_8e7e51fee6514d079dee65839bca7132"
          }
        },
        "29e78d021a94461eae99bebd5f3b88f1": {
          "model_module": "@jupyter-widgets/controls",
          "model_name": "HTMLModel",
          "state": {
            "_view_name": "HTMLView",
            "style": "IPY_MODEL_5283a583936c49b8a5cd7ce21e4293c1",
            "_dom_classes": [],
            "description": "",
            "_model_name": "HTMLModel",
            "placeholder": "​",
            "_view_module": "@jupyter-widgets/controls",
            "_model_module_version": "1.5.0",
            "value": " 0/28881 [00:00&lt;?, ?it/s]",
            "_view_count": null,
            "_view_module_version": "1.5.0",
            "description_tooltip": null,
            "_model_module": "@jupyter-widgets/controls",
            "layout": "IPY_MODEL_a244ebf7bdb849a1a912d8f017495e54"
          }
        },
        "e37ce6490f83462b8e43e377c7505133": {
          "model_module": "@jupyter-widgets/controls",
          "model_name": "ProgressStyleModel",
          "state": {
            "_view_name": "StyleView",
            "_model_name": "ProgressStyleModel",
            "description_width": "initial",
            "_view_module": "@jupyter-widgets/base",
            "_model_module_version": "1.5.0",
            "_view_count": null,
            "_view_module_version": "1.2.0",
            "bar_color": null,
            "_model_module": "@jupyter-widgets/controls"
          }
        },
        "8e7e51fee6514d079dee65839bca7132": {
          "model_module": "@jupyter-widgets/base",
          "model_name": "LayoutModel",
          "state": {
            "_view_name": "LayoutView",
            "grid_template_rows": null,
            "right": null,
            "justify_content": null,
            "_view_module": "@jupyter-widgets/base",
            "overflow": null,
            "_model_module_version": "1.2.0",
            "_view_count": null,
            "flex_flow": null,
            "width": null,
            "min_width": null,
            "border": null,
            "align_items": null,
            "bottom": null,
            "_model_module": "@jupyter-widgets/base",
            "top": null,
            "grid_column": null,
            "overflow_y": null,
            "overflow_x": null,
            "grid_auto_flow": null,
            "grid_area": null,
            "grid_template_columns": null,
            "flex": null,
            "_model_name": "LayoutModel",
            "justify_items": null,
            "grid_row": null,
            "max_height": null,
            "align_content": null,
            "visibility": null,
            "align_self": null,
            "height": null,
            "min_height": null,
            "padding": null,
            "grid_auto_rows": null,
            "grid_gap": null,
            "max_width": null,
            "order": null,
            "_view_module_version": "1.2.0",
            "grid_template_areas": null,
            "object_position": null,
            "object_fit": null,
            "grid_auto_columns": null,
            "margin": null,
            "display": null,
            "left": null
          }
        },
        "5283a583936c49b8a5cd7ce21e4293c1": {
          "model_module": "@jupyter-widgets/controls",
          "model_name": "DescriptionStyleModel",
          "state": {
            "_view_name": "StyleView",
            "_model_name": "DescriptionStyleModel",
            "description_width": "",
            "_view_module": "@jupyter-widgets/base",
            "_model_module_version": "1.5.0",
            "_view_count": null,
            "_view_module_version": "1.2.0",
            "_model_module": "@jupyter-widgets/controls"
          }
        },
        "a244ebf7bdb849a1a912d8f017495e54": {
          "model_module": "@jupyter-widgets/base",
          "model_name": "LayoutModel",
          "state": {
            "_view_name": "LayoutView",
            "grid_template_rows": null,
            "right": null,
            "justify_content": null,
            "_view_module": "@jupyter-widgets/base",
            "overflow": null,
            "_model_module_version": "1.2.0",
            "_view_count": null,
            "flex_flow": null,
            "width": null,
            "min_width": null,
            "border": null,
            "align_items": null,
            "bottom": null,
            "_model_module": "@jupyter-widgets/base",
            "top": null,
            "grid_column": null,
            "overflow_y": null,
            "overflow_x": null,
            "grid_auto_flow": null,
            "grid_area": null,
            "grid_template_columns": null,
            "flex": null,
            "_model_name": "LayoutModel",
            "justify_items": null,
            "grid_row": null,
            "max_height": null,
            "align_content": null,
            "visibility": null,
            "align_self": null,
            "height": null,
            "min_height": null,
            "padding": null,
            "grid_auto_rows": null,
            "grid_gap": null,
            "max_width": null,
            "order": null,
            "_view_module_version": "1.2.0",
            "grid_template_areas": null,
            "object_position": null,
            "object_fit": null,
            "grid_auto_columns": null,
            "margin": null,
            "display": null,
            "left": null
          }
        },
        "aab7db6b63f346cc8ce8255e2360f005": {
          "model_module": "@jupyter-widgets/controls",
          "model_name": "HBoxModel",
          "state": {
            "_view_name": "HBoxView",
            "_dom_classes": [],
            "_model_name": "HBoxModel",
            "_view_module": "@jupyter-widgets/controls",
            "_model_module_version": "1.5.0",
            "_view_count": null,
            "_view_module_version": "1.5.0",
            "box_style": "",
            "layout": "IPY_MODEL_1278117446624cfca54e02692703478f",
            "_model_module": "@jupyter-widgets/controls",
            "children": [
              "IPY_MODEL_83ac1bc53b4f4a4fb2099be52ef8a11f",
              "IPY_MODEL_259cd405ccb24d0f884f0d0840be27db"
            ]
          }
        },
        "1278117446624cfca54e02692703478f": {
          "model_module": "@jupyter-widgets/base",
          "model_name": "LayoutModel",
          "state": {
            "_view_name": "LayoutView",
            "grid_template_rows": null,
            "right": null,
            "justify_content": null,
            "_view_module": "@jupyter-widgets/base",
            "overflow": null,
            "_model_module_version": "1.2.0",
            "_view_count": null,
            "flex_flow": null,
            "width": null,
            "min_width": null,
            "border": null,
            "align_items": null,
            "bottom": null,
            "_model_module": "@jupyter-widgets/base",
            "top": null,
            "grid_column": null,
            "overflow_y": null,
            "overflow_x": null,
            "grid_auto_flow": null,
            "grid_area": null,
            "grid_template_columns": null,
            "flex": null,
            "_model_name": "LayoutModel",
            "justify_items": null,
            "grid_row": null,
            "max_height": null,
            "align_content": null,
            "visibility": null,
            "align_self": null,
            "height": null,
            "min_height": null,
            "padding": null,
            "grid_auto_rows": null,
            "grid_gap": null,
            "max_width": null,
            "order": null,
            "_view_module_version": "1.2.0",
            "grid_template_areas": null,
            "object_position": null,
            "object_fit": null,
            "grid_auto_columns": null,
            "margin": null,
            "display": null,
            "left": null
          }
        },
        "83ac1bc53b4f4a4fb2099be52ef8a11f": {
          "model_module": "@jupyter-widgets/controls",
          "model_name": "FloatProgressModel",
          "state": {
            "_view_name": "ProgressView",
            "style": "IPY_MODEL_103961eea08f4974bf45a03919bead78",
            "_dom_classes": [],
            "description": "",
            "_model_name": "FloatProgressModel",
            "bar_style": "info",
            "max": 1,
            "_view_module": "@jupyter-widgets/controls",
            "_model_module_version": "1.5.0",
            "value": 1,
            "_view_count": null,
            "_view_module_version": "1.5.0",
            "orientation": "horizontal",
            "min": 0,
            "description_tooltip": null,
            "_model_module": "@jupyter-widgets/controls",
            "layout": "IPY_MODEL_4e1da7e61cf24566a8301b5054eca510"
          }
        },
        "259cd405ccb24d0f884f0d0840be27db": {
          "model_module": "@jupyter-widgets/controls",
          "model_name": "HTMLModel",
          "state": {
            "_view_name": "HTMLView",
            "style": "IPY_MODEL_3552b16a5a464c5384fb28a0c28b527a",
            "_dom_classes": [],
            "description": "",
            "_model_name": "HTMLModel",
            "placeholder": "​",
            "_view_module": "@jupyter-widgets/controls",
            "_model_module_version": "1.5.0",
            "value": " 1654784/? [00:13&lt;00:00, 529771.27it/s]",
            "_view_count": null,
            "_view_module_version": "1.5.0",
            "description_tooltip": null,
            "_model_module": "@jupyter-widgets/controls",
            "layout": "IPY_MODEL_d8c31c1f3bc842518c60aef1b2e3484a"
          }
        },
        "103961eea08f4974bf45a03919bead78": {
          "model_module": "@jupyter-widgets/controls",
          "model_name": "ProgressStyleModel",
          "state": {
            "_view_name": "StyleView",
            "_model_name": "ProgressStyleModel",
            "description_width": "initial",
            "_view_module": "@jupyter-widgets/base",
            "_model_module_version": "1.5.0",
            "_view_count": null,
            "_view_module_version": "1.2.0",
            "bar_color": null,
            "_model_module": "@jupyter-widgets/controls"
          }
        },
        "4e1da7e61cf24566a8301b5054eca510": {
          "model_module": "@jupyter-widgets/base",
          "model_name": "LayoutModel",
          "state": {
            "_view_name": "LayoutView",
            "grid_template_rows": null,
            "right": null,
            "justify_content": null,
            "_view_module": "@jupyter-widgets/base",
            "overflow": null,
            "_model_module_version": "1.2.0",
            "_view_count": null,
            "flex_flow": null,
            "width": null,
            "min_width": null,
            "border": null,
            "align_items": null,
            "bottom": null,
            "_model_module": "@jupyter-widgets/base",
            "top": null,
            "grid_column": null,
            "overflow_y": null,
            "overflow_x": null,
            "grid_auto_flow": null,
            "grid_area": null,
            "grid_template_columns": null,
            "flex": null,
            "_model_name": "LayoutModel",
            "justify_items": null,
            "grid_row": null,
            "max_height": null,
            "align_content": null,
            "visibility": null,
            "align_self": null,
            "height": null,
            "min_height": null,
            "padding": null,
            "grid_auto_rows": null,
            "grid_gap": null,
            "max_width": null,
            "order": null,
            "_view_module_version": "1.2.0",
            "grid_template_areas": null,
            "object_position": null,
            "object_fit": null,
            "grid_auto_columns": null,
            "margin": null,
            "display": null,
            "left": null
          }
        },
        "3552b16a5a464c5384fb28a0c28b527a": {
          "model_module": "@jupyter-widgets/controls",
          "model_name": "DescriptionStyleModel",
          "state": {
            "_view_name": "StyleView",
            "_model_name": "DescriptionStyleModel",
            "description_width": "",
            "_view_module": "@jupyter-widgets/base",
            "_model_module_version": "1.5.0",
            "_view_count": null,
            "_view_module_version": "1.2.0",
            "_model_module": "@jupyter-widgets/controls"
          }
        },
        "d8c31c1f3bc842518c60aef1b2e3484a": {
          "model_module": "@jupyter-widgets/base",
          "model_name": "LayoutModel",
          "state": {
            "_view_name": "LayoutView",
            "grid_template_rows": null,
            "right": null,
            "justify_content": null,
            "_view_module": "@jupyter-widgets/base",
            "overflow": null,
            "_model_module_version": "1.2.0",
            "_view_count": null,
            "flex_flow": null,
            "width": null,
            "min_width": null,
            "border": null,
            "align_items": null,
            "bottom": null,
            "_model_module": "@jupyter-widgets/base",
            "top": null,
            "grid_column": null,
            "overflow_y": null,
            "overflow_x": null,
            "grid_auto_flow": null,
            "grid_area": null,
            "grid_template_columns": null,
            "flex": null,
            "_model_name": "LayoutModel",
            "justify_items": null,
            "grid_row": null,
            "max_height": null,
            "align_content": null,
            "visibility": null,
            "align_self": null,
            "height": null,
            "min_height": null,
            "padding": null,
            "grid_auto_rows": null,
            "grid_gap": null,
            "max_width": null,
            "order": null,
            "_view_module_version": "1.2.0",
            "grid_template_areas": null,
            "object_position": null,
            "object_fit": null,
            "grid_auto_columns": null,
            "margin": null,
            "display": null,
            "left": null
          }
        },
        "955772e3c0ea4ec08da885417b21bc16": {
          "model_module": "@jupyter-widgets/controls",
          "model_name": "HBoxModel",
          "state": {
            "_view_name": "HBoxView",
            "_dom_classes": [],
            "_model_name": "HBoxModel",
            "_view_module": "@jupyter-widgets/controls",
            "_model_module_version": "1.5.0",
            "_view_count": null,
            "_view_module_version": "1.5.0",
            "box_style": "",
            "layout": "IPY_MODEL_93bac976b2ba43a294e839d044b04af2",
            "_model_module": "@jupyter-widgets/controls",
            "children": [
              "IPY_MODEL_dee64a30685646eb9b10ba9ff3149b6f",
              "IPY_MODEL_10d63e043bf944edb602a320d4d5c0cb"
            ]
          }
        },
        "93bac976b2ba43a294e839d044b04af2": {
          "model_module": "@jupyter-widgets/base",
          "model_name": "LayoutModel",
          "state": {
            "_view_name": "LayoutView",
            "grid_template_rows": null,
            "right": null,
            "justify_content": null,
            "_view_module": "@jupyter-widgets/base",
            "overflow": null,
            "_model_module_version": "1.2.0",
            "_view_count": null,
            "flex_flow": null,
            "width": null,
            "min_width": null,
            "border": null,
            "align_items": null,
            "bottom": null,
            "_model_module": "@jupyter-widgets/base",
            "top": null,
            "grid_column": null,
            "overflow_y": null,
            "overflow_x": null,
            "grid_auto_flow": null,
            "grid_area": null,
            "grid_template_columns": null,
            "flex": null,
            "_model_name": "LayoutModel",
            "justify_items": null,
            "grid_row": null,
            "max_height": null,
            "align_content": null,
            "visibility": null,
            "align_self": null,
            "height": null,
            "min_height": null,
            "padding": null,
            "grid_auto_rows": null,
            "grid_gap": null,
            "max_width": null,
            "order": null,
            "_view_module_version": "1.2.0",
            "grid_template_areas": null,
            "object_position": null,
            "object_fit": null,
            "grid_auto_columns": null,
            "margin": null,
            "display": null,
            "left": null
          }
        },
        "dee64a30685646eb9b10ba9ff3149b6f": {
          "model_module": "@jupyter-widgets/controls",
          "model_name": "FloatProgressModel",
          "state": {
            "_view_name": "ProgressView",
            "style": "IPY_MODEL_c015b42a9eec4f09a0ca31961b160109",
            "_dom_classes": [],
            "description": "  0%",
            "_model_name": "FloatProgressModel",
            "bar_style": "info",
            "max": 1,
            "_view_module": "@jupyter-widgets/controls",
            "_model_module_version": "1.5.0",
            "value": 0,
            "_view_count": null,
            "_view_module_version": "1.5.0",
            "orientation": "horizontal",
            "min": 0,
            "description_tooltip": null,
            "_model_module": "@jupyter-widgets/controls",
            "layout": "IPY_MODEL_0231c4f451f14b4ca28bc801f9c9ec12"
          }
        },
        "10d63e043bf944edb602a320d4d5c0cb": {
          "model_module": "@jupyter-widgets/controls",
          "model_name": "HTMLModel",
          "state": {
            "_view_name": "HTMLView",
            "style": "IPY_MODEL_6dbaab8a916f432ab3c8607a2181e55f",
            "_dom_classes": [],
            "description": "",
            "_model_name": "HTMLModel",
            "placeholder": "​",
            "_view_module": "@jupyter-widgets/controls",
            "_model_module_version": "1.5.0",
            "value": " 0/4542 [00:00&lt;?, ?it/s]",
            "_view_count": null,
            "_view_module_version": "1.5.0",
            "description_tooltip": null,
            "_model_module": "@jupyter-widgets/controls",
            "layout": "IPY_MODEL_a5f7977042014d04935d1b28e7581f5c"
          }
        },
        "c015b42a9eec4f09a0ca31961b160109": {
          "model_module": "@jupyter-widgets/controls",
          "model_name": "ProgressStyleModel",
          "state": {
            "_view_name": "StyleView",
            "_model_name": "ProgressStyleModel",
            "description_width": "initial",
            "_view_module": "@jupyter-widgets/base",
            "_model_module_version": "1.5.0",
            "_view_count": null,
            "_view_module_version": "1.2.0",
            "bar_color": null,
            "_model_module": "@jupyter-widgets/controls"
          }
        },
        "0231c4f451f14b4ca28bc801f9c9ec12": {
          "model_module": "@jupyter-widgets/base",
          "model_name": "LayoutModel",
          "state": {
            "_view_name": "LayoutView",
            "grid_template_rows": null,
            "right": null,
            "justify_content": null,
            "_view_module": "@jupyter-widgets/base",
            "overflow": null,
            "_model_module_version": "1.2.0",
            "_view_count": null,
            "flex_flow": null,
            "width": null,
            "min_width": null,
            "border": null,
            "align_items": null,
            "bottom": null,
            "_model_module": "@jupyter-widgets/base",
            "top": null,
            "grid_column": null,
            "overflow_y": null,
            "overflow_x": null,
            "grid_auto_flow": null,
            "grid_area": null,
            "grid_template_columns": null,
            "flex": null,
            "_model_name": "LayoutModel",
            "justify_items": null,
            "grid_row": null,
            "max_height": null,
            "align_content": null,
            "visibility": null,
            "align_self": null,
            "height": null,
            "min_height": null,
            "padding": null,
            "grid_auto_rows": null,
            "grid_gap": null,
            "max_width": null,
            "order": null,
            "_view_module_version": "1.2.0",
            "grid_template_areas": null,
            "object_position": null,
            "object_fit": null,
            "grid_auto_columns": null,
            "margin": null,
            "display": null,
            "left": null
          }
        },
        "6dbaab8a916f432ab3c8607a2181e55f": {
          "model_module": "@jupyter-widgets/controls",
          "model_name": "DescriptionStyleModel",
          "state": {
            "_view_name": "StyleView",
            "_model_name": "DescriptionStyleModel",
            "description_width": "",
            "_view_module": "@jupyter-widgets/base",
            "_model_module_version": "1.5.0",
            "_view_count": null,
            "_view_module_version": "1.2.0",
            "_model_module": "@jupyter-widgets/controls"
          }
        },
        "a5f7977042014d04935d1b28e7581f5c": {
          "model_module": "@jupyter-widgets/base",
          "model_name": "LayoutModel",
          "state": {
            "_view_name": "LayoutView",
            "grid_template_rows": null,
            "right": null,
            "justify_content": null,
            "_view_module": "@jupyter-widgets/base",
            "overflow": null,
            "_model_module_version": "1.2.0",
            "_view_count": null,
            "flex_flow": null,
            "width": null,
            "min_width": null,
            "border": null,
            "align_items": null,
            "bottom": null,
            "_model_module": "@jupyter-widgets/base",
            "top": null,
            "grid_column": null,
            "overflow_y": null,
            "overflow_x": null,
            "grid_auto_flow": null,
            "grid_area": null,
            "grid_template_columns": null,
            "flex": null,
            "_model_name": "LayoutModel",
            "justify_items": null,
            "grid_row": null,
            "max_height": null,
            "align_content": null,
            "visibility": null,
            "align_self": null,
            "height": null,
            "min_height": null,
            "padding": null,
            "grid_auto_rows": null,
            "grid_gap": null,
            "max_width": null,
            "order": null,
            "_view_module_version": "1.2.0",
            "grid_template_areas": null,
            "object_position": null,
            "object_fit": null,
            "grid_auto_columns": null,
            "margin": null,
            "display": null,
            "left": null
          }
        }
      }
    }
  },
  "cells": [
    {
      "cell_type": "markdown",
      "metadata": {
        "id": "view-in-github",
        "colab_type": "text"
      },
      "source": [
        "<a href=\"https://colab.research.google.com/github/Davidportlouis/handwritten_digits_classifier/blob/master/handwritten_digits_classifier.ipynb\" target=\"_parent\"><img src=\"https://colab.research.google.com/assets/colab-badge.svg\" alt=\"Open In Colab\"/></a>"
      ]
    },
    {
      "cell_type": "code",
      "metadata": {
        "id": "reduNMzP_xjC"
      },
      "source": [
        "# necessary libraries\n",
        "import os\n",
        "import torch\n",
        "import time\n",
        "import numpy as np\n",
        "from torch import optim, nn\n",
        "import torch.nn.functional as F\n",
        "import matplotlib.pyplot as plt\n",
        "from torchvision import datasets, transforms"
      ],
      "execution_count": 68,
      "outputs": []
    },
    {
      "cell_type": "code",
      "metadata": {
        "id": "xv7sUWDDAWQX",
        "outputId": "4cb0c4e3-16e0-4446-d4a2-c29b0a7a75de",
        "colab": {
          "base_uri": "https://localhost:8080/",
          "height": 35
        }
      },
      "source": [
        "# Test for CUDA\n",
        "\n",
        "if torch.cuda.is_available():\n",
        "  print(\"CUDA is available! Training on GPU ...\")\n",
        "  device = torch.device(\"cuda\")\n",
        "else:\n",
        "  print(\"CUDA is not available. Training on CPU\")\n",
        "  device = torch.device(\"cpu\")"
      ],
      "execution_count": 44,
      "outputs": [
        {
          "output_type": "stream",
          "text": [
            "CUDA is available! Training on GPU ...\n"
          ],
          "name": "stdout"
        }
      ]
    },
    {
      "cell_type": "code",
      "metadata": {
        "id": "764HOv_eAyo8",
        "outputId": "6616ee38-dee1-4f07-cae9-dca3b3bc24e8",
        "colab": {
          "base_uri": "https://localhost:8080/",
          "height": 329,
          "referenced_widgets": [
            "19eeee792284439aaf0a931ddfc5a2d9",
            "5d6210fda554488b9fd3bbce1818e03b",
            "2904e88f9a094d85813ac1c511a0f44f",
            "ca41cc38600c4b20ad8d51fb1935a8ce",
            "4f93b92aed0343428a3e24539d5c342d",
            "ac2cd8f6145f4fc09a8b91109ff81f62",
            "80c8580871ab46788ee20c9bdf93f214",
            "2d271bd011cd4af8a9bfc7d53dbf2068",
            "1c34a50dc4cd491c88f22987c19c8221",
            "dc080cccd2704a2289c9371e4402c2cb",
            "d81cb953c9994db2ad0c355f3391af92",
            "29e78d021a94461eae99bebd5f3b88f1",
            "e37ce6490f83462b8e43e377c7505133",
            "8e7e51fee6514d079dee65839bca7132",
            "5283a583936c49b8a5cd7ce21e4293c1",
            "a244ebf7bdb849a1a912d8f017495e54",
            "aab7db6b63f346cc8ce8255e2360f005",
            "1278117446624cfca54e02692703478f",
            "83ac1bc53b4f4a4fb2099be52ef8a11f",
            "259cd405ccb24d0f884f0d0840be27db",
            "103961eea08f4974bf45a03919bead78",
            "4e1da7e61cf24566a8301b5054eca510",
            "3552b16a5a464c5384fb28a0c28b527a",
            "d8c31c1f3bc842518c60aef1b2e3484a",
            "955772e3c0ea4ec08da885417b21bc16",
            "93bac976b2ba43a294e839d044b04af2",
            "dee64a30685646eb9b10ba9ff3149b6f",
            "10d63e043bf944edb602a320d4d5c0cb",
            "c015b42a9eec4f09a0ca31961b160109",
            "0231c4f451f14b4ca28bc801f9c9ec12",
            "6dbaab8a916f432ab3c8607a2181e55f",
            "a5f7977042014d04935d1b28e7581f5c"
          ]
        }
      },
      "source": [
        "# Loading data\n",
        "\n",
        "batch_size = 20\n",
        "valid_size = 0.2\n",
        "num_workers = 4\n",
        "\n",
        "# data augmentation (transforms)\n",
        "transform = transforms.Compose([\n",
        "  transforms.ToTensor(),\n",
        "  transforms.Normalize(mean=(0.5), std=(0.5))\n",
        "])\n",
        "\n",
        "# downloading MNIST data\n",
        "train_data = datasets.MNIST(root=\"./\", train=True, transform=transform,\n",
        "                            download=True)\n",
        "test_data = datasets.MNIST(root=\"./\", train=False, transform=transform,\n",
        "                           download=True)\n",
        "\n",
        "# sampling cross-validation data\n",
        "train_size = len(train_data)\n",
        "idx = list(range(train_size))\n",
        "# randomizing indices\n",
        "np.random.shuffle(idx)\n",
        "split = int(np.floor(train_size * valid_size))\n",
        "train_idx, valid_idx = idx[split:], idx[:split]\n",
        "\n",
        "# samplers \n",
        "train_sampler = torch.utils.data.SubsetRandomSampler(train_idx)\n",
        "valid_sampler = torch.utils.data.SubsetRandomSampler(valid_idx)\n",
        "\n",
        "# preparing dataloaders\n",
        "train_loader = torch.utils.data.DataLoader(train_data, batch_size, train_sampler,\n",
        "                                           num_workers=num_workers)\n",
        "valid_loader = torch.utils.data.DataLoader(train_data, batch_size, valid_sampler,\n",
        "                                           num_workers=num_workers)\n",
        "test_loader = torch.utils.data.DataLoader(test_data, batch_size, shuffle=True,\n",
        "                                          num_workers=num_workers)"
      ],
      "execution_count": 48,
      "outputs": [
        {
          "output_type": "stream",
          "text": [
            "Downloading http://yann.lecun.com/exdb/mnist/train-images-idx3-ubyte.gz to ./MNIST/raw/train-images-idx3-ubyte.gz\n"
          ],
          "name": "stdout"
        },
        {
          "output_type": "display_data",
          "data": {
            "application/vnd.jupyter.widget-view+json": {
              "model_id": "19eeee792284439aaf0a931ddfc5a2d9",
              "version_minor": 0,
              "version_major": 2
            },
            "text/plain": [
              "HBox(children=(FloatProgress(value=1.0, bar_style='info', max=1.0), HTML(value='')))"
            ]
          },
          "metadata": {
            "tags": []
          }
        },
        {
          "output_type": "stream",
          "text": [
            "Extracting ./MNIST/raw/train-images-idx3-ubyte.gz to ./MNIST/raw\n",
            "Downloading http://yann.lecun.com/exdb/mnist/train-labels-idx1-ubyte.gz to ./MNIST/raw/train-labels-idx1-ubyte.gz\n"
          ],
          "name": "stdout"
        },
        {
          "output_type": "display_data",
          "data": {
            "application/vnd.jupyter.widget-view+json": {
              "model_id": "1c34a50dc4cd491c88f22987c19c8221",
              "version_minor": 0,
              "version_major": 2
            },
            "text/plain": [
              "HBox(children=(FloatProgress(value=1.0, bar_style='info', max=1.0), HTML(value='')))"
            ]
          },
          "metadata": {
            "tags": []
          }
        },
        {
          "output_type": "stream",
          "text": [
            "Extracting ./MNIST/raw/train-labels-idx1-ubyte.gz to ./MNIST/raw\n",
            "Downloading http://yann.lecun.com/exdb/mnist/t10k-images-idx3-ubyte.gz to ./MNIST/raw/t10k-images-idx3-ubyte.gz\n"
          ],
          "name": "stdout"
        },
        {
          "output_type": "display_data",
          "data": {
            "application/vnd.jupyter.widget-view+json": {
              "model_id": "aab7db6b63f346cc8ce8255e2360f005",
              "version_minor": 0,
              "version_major": 2
            },
            "text/plain": [
              "HBox(children=(FloatProgress(value=1.0, bar_style='info', max=1.0), HTML(value='')))"
            ]
          },
          "metadata": {
            "tags": []
          }
        },
        {
          "output_type": "stream",
          "text": [
            "Extracting ./MNIST/raw/t10k-images-idx3-ubyte.gz to ./MNIST/raw\n",
            "Downloading http://yann.lecun.com/exdb/mnist/t10k-labels-idx1-ubyte.gz to ./MNIST/raw/t10k-labels-idx1-ubyte.gz\n"
          ],
          "name": "stdout"
        },
        {
          "output_type": "display_data",
          "data": {
            "application/vnd.jupyter.widget-view+json": {
              "model_id": "955772e3c0ea4ec08da885417b21bc16",
              "version_minor": 0,
              "version_major": 2
            },
            "text/plain": [
              "HBox(children=(FloatProgress(value=1.0, bar_style='info', max=1.0), HTML(value='')))"
            ]
          },
          "metadata": {
            "tags": []
          }
        },
        {
          "output_type": "stream",
          "text": [
            "Extracting ./MNIST/raw/t10k-labels-idx1-ubyte.gz to ./MNIST/raw\n",
            "Processing...\n",
            "Done!\n"
          ],
          "name": "stdout"
        }
      ]
    },
    {
      "cell_type": "code",
      "metadata": {
        "id": "YGYgW6nsD09A",
        "outputId": "c5ef44c2-2bbc-477a-81d7-c96bda551882",
        "colab": {
          "base_uri": "https://localhost:8080/",
          "height": 268
        }
      },
      "source": [
        "# visualizing data\n",
        "\n",
        "def plot_batch(batch, labels, preds=None, normalize=False):\n",
        "  \"\"\"\n",
        "  visualize image data in grid space\n",
        "  \"\"\"\n",
        "  fig = plt.figure(figsize=(25, 4))\n",
        "  for idx in range(len(batch)):\n",
        "    ax = fig.add_subplot(2, len(batch)/2, idx+1, xticks=[], yticks=[])\n",
        "    if normalize:\n",
        "      image = np.array([0.5]) * batch[idx].numpy().squeeze() + np.array([0.5])\n",
        "    else:\n",
        "      image = batch[idx]\n",
        "    ax.imshow(image, cmap=\"gray\")\n",
        "    if labels is not None and preds is not None:\n",
        "      ax.set_title(f\"Predicted: {preds[idx].item()}\",\n",
        "                   c=(\"green\" if labels[idx] == preds[idx] else \"red\"))\n",
        "    elif labels is not None:\n",
        "      ax.set_title(f\"Class: {labels[idx].item()}\")\n",
        "\n",
        "images, labels = next(iter(train_loader))\n",
        "plot_batch(images, labels, normalize=True)"
      ],
      "execution_count": 50,
      "outputs": [
        {
          "output_type": "display_data",
          "data": {
            "image/png": "[encoded data removed]",
            "text/plain": [
              "<Figure size 1800x288 with 20 Axes>"
            ]
          },
          "metadata": {
            "tags": []
          }
        }
      ]
    },
    {
      "cell_type": "code",
      "metadata": {
        "id": "-LSrlwmaFdes",
        "outputId": "c2bb21b1-3bc7-46db-9088-e515b83697c3",
        "colab": {
          "base_uri": "https://localhost:8080/",
          "height": 700
        }
      },
      "source": [
        "# view image in more detail\n",
        "img = np.array([0.5]) + images[0].numpy().squeeze() * np.array([0.5]) \n",
        "\n",
        "fig = plt.figure(figsize=(12, 12))\n",
        "ax = fig.add_subplot(1,1,1)\n",
        "ax.imshow(img, cmap=\"gray\")\n",
        "width, height = img.shape\n",
        "thresh = img.max() / 2.5\n",
        "for x in range(width):\n",
        "    for y in range(height):\n",
        "        val = round(img[x][y],2) if img[x][y] !=0 else 0\n",
        "        ax.annotate(str(val), xy=(y,x),\n",
        "                    horizontalalignment='center',\n",
        "                    verticalalignment='center',\n",
        "                    color='white' if img[x][y]<thresh else 'black')"
      ],
      "execution_count": 59,
      "outputs": [
        {
          "output_type": "display_data",
          "data": {
            "image/png": "[encoded data removed]",
            "text/plain": [
              "<Figure size 864x864 with 1 Axes>"
            ]
          },
          "metadata": {
            "tags": [],
            "needs_background": "light"
          }
        }
      ]
    },
    {
      "cell_type": "code",
      "metadata": {
        "id": "i8rtZQs6Jv9u",
        "outputId": "04e85ec3-3d3a-486b-d1a0-b36e2fa31890",
        "colab": {
          "base_uri": "https://localhost:8080/",
          "height": 146
        }
      },
      "source": [
        "# defining network architecture\n",
        "\n",
        "class Net(nn.Module):\n",
        "  def __init__(self):\n",
        "    super().__init__()\n",
        "    self.fc1 = nn.Linear(784, 512)\n",
        "    self.fc2 = nn.Linear(512, 256)\n",
        "    self.fc3 = nn.Linear(256, 64)\n",
        "    self.fc4 = nn.Linear(64, 10)\n",
        "    self.drop = nn.Dropout(p=0.3)\n",
        "\n",
        "  def forward(self, x):\n",
        "    # flatten (into row-vector)\n",
        "    x = x.view(-1, 784)\n",
        "    x = self.drop(F.relu(self.fc1(x)))\n",
        "    x = self.drop(F.relu(self.fc2(x)))\n",
        "    x = self.drop(F.relu(self.fc3(x)))\n",
        "    x = self.fc4(x)\n",
        "    return x\n",
        "\n",
        "model = Net()\n",
        "model = model.to(device)\n",
        "print(model)"
      ],
      "execution_count": 127,
      "outputs": [
        {
          "output_type": "stream",
          "text": [
            "Net(\n",
            "  (fc1): Linear(in_features=784, out_features=512, bias=True)\n",
            "  (fc2): Linear(in_features=512, out_features=256, bias=True)\n",
            "  (fc3): Linear(in_features=256, out_features=64, bias=True)\n",
            "  (fc4): Linear(in_features=64, out_features=10, bias=True)\n",
            "  (drop): Dropout(p=0.3, inplace=False)\n",
            ")\n"
          ],
          "name": "stdout"
        }
      ]
    },
    {
      "cell_type": "code",
      "metadata": {
        "id": "kGRROmaoNQte"
      },
      "source": [
        "criterion = nn.CrossEntropyLoss()\n",
        "optimizer = optim.SGD(model.parameters(), lr=0.01)"
      ],
      "execution_count": 135,
      "outputs": []
    },
    {
      "cell_type": "code",
      "metadata": {
        "id": "uTZZ7QYiN2ev",
        "outputId": "d952038b-d9ad-4ff2-906d-97ba09ef36a3",
        "colab": {
          "base_uri": "https://localhost:8080/",
          "height": 1000
        }
      },
      "source": [
        "def train(model, train_loader, valid_loader, criterion, optimizer, epochs, device):\n",
        "  train_losses, valid_losses = [], []\n",
        "  last_loss = np.inf\n",
        "\n",
        "  for e in range(epochs):\n",
        "    start = time.time()\n",
        "    train_loss = 0.0\n",
        "    valid_loss = 0.0\n",
        "\n",
        "    model.train()\n",
        "    for features, labels in train_loader:\n",
        "      features, labels = features.to(device), labels.to(device)\n",
        "      optimizer.zero_grad()\n",
        "      logits = model.forward(features)\n",
        "      loss = criterion(logits, labels)\n",
        "      loss.backward()\n",
        "      optimizer.step()\n",
        "      train_loss += loss.item()\n",
        "\n",
        "    train_losses.append(train_loss/len(train_loader))\n",
        "\n",
        "    model.eval()\n",
        "    for features, labels in valid_loader:\n",
        "      features, labels = features.to(device), labels.to(device)\n",
        "      logits = model.forward(features)\n",
        "      loss = criterion(logits, labels)\n",
        "      valid_loss += loss.item()\n",
        "\n",
        "    valid_losses.append(valid_loss/len(valid_loader))\n",
        "\n",
        "    print(f\"Epoch: {e+1}/{epochs} Train loss: {train_loss/len(train_loader):.5f} \",\n",
        "          f\"Valid loss: {valid_loss/len(valid_loader):.5f} Time: {time.time() - start:.3f}s\")\n",
        "\n",
        "    if valid_loss < last_loss:\n",
        "      print(f\"Loss Decreased: {last_loss/len(valid_loader):.5f} -> {valid_loss/len(valid_loader):.5f}\")\n",
        "      print(\"Saving model\")\n",
        "      torch.save(model.state_dict(), \"chkpt.pth\") \n",
        "      last_loss = valid_loss\n",
        "  return (train_losses, valid_losses)\n",
        "\n",
        "train_loss, valid_loss = train(model, train_loader, valid_loader, criterion, optimizer, 30, device)   "
      ],
      "execution_count": 136,
      "outputs": [
        {
          "output_type": "stream",
          "text": [
            "Epoch: 1/30 Train loss: 0.21068  Valid loss: 0.12574 Time: 25.761s\n",
            "Loss Decreased: inf -> 0.12574\n",
            "Saving model\n",
            "Epoch: 2/30 Train loss: 0.18062  Valid loss: 0.10206 Time: 25.673s\n",
            "Loss Decreased: 0.12574 -> 0.10206\n",
            "Saving model\n",
            "Epoch: 3/30 Train loss: 0.15799  Valid loss: 0.09044 Time: 25.232s\n",
            "Loss Decreased: 0.10206 -> 0.09044\n",
            "Saving model\n",
            "Epoch: 4/30 Train loss: 0.14270  Valid loss: 0.07897 Time: 25.361s\n",
            "Loss Decreased: 0.09044 -> 0.07897\n",
            "Saving model\n",
            "Epoch: 5/30 Train loss: 0.13053  Valid loss: 0.06926 Time: 25.415s\n",
            "Loss Decreased: 0.07897 -> 0.06926\n",
            "Saving model\n",
            "Epoch: 6/30 Train loss: 0.12161  Valid loss: 0.06762 Time: 25.752s\n",
            "Loss Decreased: 0.06926 -> 0.06762\n",
            "Saving model\n",
            "Epoch: 7/30 Train loss: 0.11297  Valid loss: 0.06002 Time: 24.987s\n",
            "Loss Decreased: 0.06762 -> 0.06002\n",
            "Saving model\n",
            "Epoch: 8/30 Train loss: 0.10598  Valid loss: 0.04940 Time: 25.959s\n",
            "Loss Decreased: 0.06002 -> 0.04940\n",
            "Saving model\n",
            "Epoch: 9/30 Train loss: 0.09623  Valid loss: 0.04657 Time: 25.780s\n",
            "Loss Decreased: 0.04940 -> 0.04657\n",
            "Saving model\n",
            "Epoch: 10/30 Train loss: 0.09099  Valid loss: 0.04652 Time: 25.614s\n",
            "Loss Decreased: 0.04657 -> 0.04652\n",
            "Saving model\n",
            "Epoch: 11/30 Train loss: 0.08729  Valid loss: 0.04552 Time: 25.671s\n",
            "Loss Decreased: 0.04652 -> 0.04552\n",
            "Saving model\n",
            "Epoch: 12/30 Train loss: 0.08288  Valid loss: 0.04861 Time: 25.866s\n",
            "Epoch: 13/30 Train loss: 0.07544  Valid loss: 0.03444 Time: 26.212s\n",
            "Loss Decreased: 0.04552 -> 0.03444\n",
            "Saving model\n",
            "Epoch: 14/30 Train loss: 0.07558  Valid loss: 0.03801 Time: 26.285s\n",
            "Epoch: 15/30 Train loss: 0.07052  Valid loss: 0.03526 Time: 25.555s\n",
            "Epoch: 16/30 Train loss: 0.06665  Valid loss: 0.03185 Time: 26.361s\n",
            "Loss Decreased: 0.03444 -> 0.03185\n",
            "Saving model\n",
            "Epoch: 17/30 Train loss: 0.06600  Valid loss: 0.02766 Time: 25.452s\n",
            "Loss Decreased: 0.03185 -> 0.02766\n",
            "Saving model\n",
            "Epoch: 18/30 Train loss: 0.06059  Valid loss: 0.02805 Time: 25.793s\n",
            "Epoch: 19/30 Train loss: 0.06087  Valid loss: 0.02393 Time: 26.193s\n",
            "Loss Decreased: 0.02766 -> 0.02393\n",
            "Saving model\n",
            "Epoch: 20/30 Train loss: 0.05795  Valid loss: 0.02252 Time: 26.137s\n",
            "Loss Decreased: 0.02393 -> 0.02252\n",
            "Saving model\n",
            "Epoch: 21/30 Train loss: 0.05524  Valid loss: 0.02224 Time: 26.051s\n",
            "Loss Decreased: 0.02252 -> 0.02224\n",
            "Saving model\n",
            "Epoch: 22/30 Train loss: 0.05243  Valid loss: 0.01964 Time: 27.175s\n",
            "Loss Decreased: 0.02224 -> 0.01964\n",
            "Saving model\n",
            "Epoch: 23/30 Train loss: 0.05049  Valid loss: 0.02132 Time: 25.954s\n",
            "Epoch: 24/30 Train loss: 0.05095  Valid loss: 0.02154 Time: 26.253s\n",
            "Epoch: 25/30 Train loss: 0.04745  Valid loss: 0.01872 Time: 26.047s\n",
            "Loss Decreased: 0.01964 -> 0.01872\n",
            "Saving model\n",
            "Epoch: 26/30 Train loss: 0.04668  Valid loss: 0.01501 Time: 27.143s\n",
            "Loss Decreased: 0.01872 -> 0.01501\n",
            "Saving model\n",
            "Epoch: 27/30 Train loss: 0.04456  Valid loss: 0.01799 Time: 27.654s\n",
            "Epoch: 28/30 Train loss: 0.04479  Valid loss: 0.01424 Time: 27.370s\n",
            "Loss Decreased: 0.01501 -> 0.01424\n",
            "Saving model\n",
            "Epoch: 29/30 Train loss: 0.04055  Valid loss: 0.01264 Time: 27.258s\n",
            "Loss Decreased: 0.01424 -> 0.01264\n",
            "Saving model\n",
            "Epoch: 30/30 Train loss: 0.04147  Valid loss: 0.01289 Time: 27.262s\n"
          ],
          "name": "stdout"
        }
      ]
    },
    {
      "cell_type": "code",
      "metadata": {
        "id": "FrVe3RJ-Z8cZ",
        "outputId": "e740bbe9-59ee-452a-e20b-e124155268bc",
        "colab": {
          "base_uri": "https://localhost:8080/",
          "height": 279
        }
      },
      "source": [
        "plt.plot(train_loss, label=\"Training loss\")\n",
        "plt.plot(valid_loss, label=\"Validation loss\")\n",
        "plt.xlabel(\"epochs\")\n",
        "plt.ylabel(\"loss\")\n",
        "plt.legend()\n",
        "plt.show()"
      ],
      "execution_count": 137,
      "outputs": [
        {
          "output_type": "display_data",
          "data": {
            "image/png": "[encoded data removed]",
            "text/plain": [
              "<Figure size 432x288 with 1 Axes>"
            ]
          },
          "metadata": {
            "tags": [],
            "needs_background": "light"
          }
        }
      ]
    },
    {
      "cell_type": "code",
      "metadata": {
        "id": "rKBUOFQfSH-3"
      },
      "source": [
        "def test(model, test_loader, criterion, device):\n",
        "  test_loss = 0.0\n",
        "  class_correct = list(0. for i in range(10))\n",
        "  class_total = list(0. for i in range(10))\n",
        "\n",
        "  start = time.time()\n",
        "\n",
        "  for features, labels in test_loader:\n",
        "    features, labels = features.to(device), labels.to(device)\n",
        "    logits = model.forward(features)\n",
        "    loss = criterion(logits, labels)\n",
        "    _, preds = torch.max(logits, 1)\n",
        "    correct = np.squeeze(preds.eq(labels.data.view_as(preds)))\n",
        "    test_loss += loss.item()\n",
        "    \n",
        "    for i in range(batch_size):\n",
        "      label = labels.data[i]\n",
        "      class_correct[label] += correct[i].item()\n",
        "      class_total[label] += 1\n",
        "\n",
        "  test_loss /= len(train_loader)\n",
        "  print(f\"Test loss: {test_loss:.5f} Time: {time.time() - start:.3f}s\")\n",
        "\n",
        "  for i in range(10):\n",
        "    if class_total[i] > 0:\n",
        "      print(f\"Test accuracy: {i}: {class_correct[i] * 100 / class_total[i]} \",\n",
        "            f\"({np.sum(class_correct[i])} /{np.sum(class_total[i])})\")\n",
        "\n",
        "  print(f\"Test accuracy (Overall): {100 * np.sum(class_correct) / np.sum(class_total)} \",\n",
        "        f\"({np.sum(class_correct)}/{np.sum(class_total)})\")"
      ],
      "execution_count": 138,
      "outputs": []
    },
    {
      "cell_type": "code",
      "metadata": {
        "id": "HV649Te3YnbD",
        "outputId": "6f7feed8-9b10-4082-e9af-679eb2166af1",
        "colab": {
          "base_uri": "https://localhost:8080/",
          "height": 237
        }
      },
      "source": [
        "test(model, test_loader, criterion, device)"
      ],
      "execution_count": 139,
      "outputs": [
        {
          "output_type": "stream",
          "text": [
            "Test loss: 0.01102 Time: 2.914s\n",
            "Test accuracy: 0: 98.87755102040816  (969.0 /980.0)\n",
            "Test accuracy: 1: 99.03083700440529  (1124.0 /1135.0)\n",
            "Test accuracy: 2: 98.06201550387597  (1012.0 /1032.0)\n",
            "Test accuracy: 3: 98.7128712871287  (997.0 /1010.0)\n",
            "Test accuracy: 4: 97.04684317718942  (953.0 /982.0)\n",
            "Test accuracy: 5: 97.98206278026906  (874.0 /892.0)\n",
            "Test accuracy: 6: 98.32985386221294  (942.0 /958.0)\n",
            "Test accuracy: 7: 98.24902723735408  (1010.0 /1028.0)\n",
            "Test accuracy: 8: 98.4599589322382  (959.0 /974.0)\n",
            "Test accuracy: 9: 97.42319127849356  (983.0 /1009.0)\n",
            "Test accuracy (Overall): 98.23  (9823.0/10000.0)\n"
          ],
          "name": "stdout"
        }
      ]
    },
    {
      "cell_type": "code",
      "metadata": {
        "id": "JyVnCvrQa76w"
      },
      "source": [
        "def predict(img, labels, model, device):\n",
        "  img = img.to(device)\n",
        "  output = model.forward(img)\n",
        "  _, preds = torch.max(output, dim=1)\n",
        "  img = img.to(\"cpu\")\n",
        "  plot_batch(img, labels, preds.cpu(), normalize=True)"
      ],
      "execution_count": 140,
      "outputs": []
    },
    {
      "cell_type": "code",
      "metadata": {
        "id": "NzH4lOH9bnSJ",
        "outputId": "94de2fe2-72fe-43ff-d3ae-9763acf861f0",
        "colab": {
          "base_uri": "https://localhost:8080/",
          "height": 268
        }
      },
      "source": [
        "test_images, test_labels = next(iter(test_loader))\n",
        "predict(test_images, test_labels, model, device)"
      ],
      "execution_count": 141,
      "outputs": [
        {
          "output_type": "display_data",
          "data": {
            "image/png": "[encoded data removed]",
            "text/plain": [
              "<Figure size 1800x288 with 20 Axes>"
            ]
          },
          "metadata": {
            "tags": []
          }
        }
      ]
    }
  ]
}